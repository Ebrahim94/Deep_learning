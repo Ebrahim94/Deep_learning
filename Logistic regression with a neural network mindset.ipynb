{
 "cells": [
  {
   "cell_type": "code",
   "execution_count": 2,
   "metadata": {},
   "outputs": [],
   "source": [
    "import numpy as np\n",
    "import matplotlib.pyplot as plt\n",
    "import h5py\n",
    "import scipy\n",
    "from PIL import Image\n",
    "from scipy import ndimage\n",
    "    \n",
    "def load_dataset():\n",
    "    train_dataset = h5py.File('train_catvnoncat.h5', \"r\")\n",
    "    train_set_x_orig = np.array(train_dataset[\"train_set_x\"][:]) # your train set features\n",
    "    train_set_y_orig = np.array(train_dataset[\"train_set_y\"][:]) # your train set labels\n",
    "\n",
    "    test_dataset = h5py.File('test_catvnoncat.h5', \"r\")\n",
    "    test_set_x_orig = np.array(test_dataset[\"test_set_x\"][:]) # your test set features\n",
    "    test_set_y_orig = np.array(test_dataset[\"test_set_y\"][:]) # your test set labels\n",
    "\n",
    "    classes = np.array(test_dataset[\"list_classes\"][:]) # the list of classes\n",
    "    \n",
    "    train_set_y_orig = train_set_y_orig.reshape((1, train_set_y_orig.shape[0]))\n",
    "    test_set_y_orig = test_set_y_orig.reshape((1, test_set_y_orig.shape[0]))\n",
    "    \n",
    "    return train_set_x_orig, train_set_y_orig, test_set_x_orig, test_set_y_orig, classes"
   ]
  },
  {
   "cell_type": "markdown",
   "metadata": {},
   "source": [
    "##### Overview of the problem set"
   ]
  },
  {
   "cell_type": "markdown",
   "metadata": {},
   "source": [
    "Problem Statement: You are given a dataset (\"data.h5\") containing:\n",
    "\n",
    "- a training set of m_train images labeled as cat (y=1) or non-cat (y=0)\n",
    "- a test set of m_test images labeled as cat or non-cat\n",
    "- each image is of shape (num_px, num_px, 3) where 3 is for the 3 channels (RGB). Thus, each image is square (height = num_px) and (width = num_px)."
   ]
  },
  {
   "cell_type": "code",
   "execution_count": 3,
   "metadata": {},
   "outputs": [],
   "source": [
    "#Load data\n",
    "train_set_x_orig, train_set_y, test_set_x_orig, test_set_y, classes = load_dataset()"
   ]
  },
  {
   "cell_type": "code",
   "execution_count": 4,
   "metadata": {},
   "outputs": [
    {
     "data": {
      "text/plain": [
       "<matplotlib.image.AxesImage at 0xb1447f7f0>"
      ]
     },
     "execution_count": 4,
     "metadata": {},
     "output_type": "execute_result"
    },
    {
     "data": {
      "image/png": "[encoded data removed]",
      "text/plain": [
       "<Figure size 432x288 with 1 Axes>"
      ]
     },
     "metadata": {
      "needs_background": "light"
     },
     "output_type": "display_data"
    }
   ],
   "source": [
    "#let us look at an image\n",
    "plt.imshow(train_set_x_orig[24])"
   ]
  },
  {
   "cell_type": "code",
   "execution_count": 5,
   "metadata": {},
   "outputs": [
    {
     "data": {
      "text/plain": [
       "(64, 64, 3)"
      ]
     },
     "execution_count": 5,
     "metadata": {},
     "output_type": "execute_result"
    }
   ],
   "source": [
    "#the dimensions of the image above\n",
    "train_set_x_orig[44].shape"
   ]
  },
  {
   "cell_type": "code",
   "execution_count": 6,
   "metadata": {},
   "outputs": [
    {
     "name": "stdout",
     "output_type": "stream",
     "text": [
      "the image above has a y value of : [0] and it is classified as : non-cat\n"
     ]
    }
   ],
   "source": [
    "print ('the image above has a y value of : {} and it is classified as : {}'.format((train_set_y[:,44]), classes[np.squeeze(train_set_y[:,44])].decode('utf-8')))"
   ]
  },
  {
   "cell_type": "code",
   "execution_count": 7,
   "metadata": {},
   "outputs": [],
   "source": [
    "#Number of training examples\n",
    "m_train = train_set_x_orig.shape[0]\n",
    "#Number of test examples\n",
    "m_test = test_set_x_orig.shape[0]\n",
    "#Number of pixels\n",
    "num_px =train_set_x_orig.shape[1]"
   ]
  },
  {
   "cell_type": "code",
   "execution_count": 8,
   "metadata": {},
   "outputs": [
    {
     "name": "stdout",
     "output_type": "stream",
     "text": [
      "Number of training examples: 209\n",
      "Number of test examples: 50\n",
      "Number of pixels for the height and width: 64\n",
      "The dimensions for the training set is: (209, 64, 64, 3) \n",
      "The dimensions for the test set is : (50, 64, 64, 3)\n",
      "The dimensions for Y values of the training set is: (1, 209)\n",
      "The dimensions for Y values of the test set is: (1, 50)\n"
     ]
    }
   ],
   "source": [
    "#Information printing\n",
    "print('Number of training examples: {}'.format(m_train))\n",
    "print('Number of test examples: {}'.format(m_test))\n",
    "print('Number of pixels for the height and width: {}'.format(num_px))\n",
    "print('The dimensions for the training set is: {} '.format(train_set_x_orig.shape))\n",
    "print('The dimensions for the test set is : {}'.format(test_set_x_orig.shape))\n",
    "print('The dimensions for Y values of the training set is: {}'.format(train_set_y.shape))\n",
    "print('The dimensions for Y values of the test set is: {}'.format(test_set_y.shape))"
   ]
  },
  {
   "cell_type": "markdown",
   "metadata": {},
   "source": [
    "##### processing the training and test set"
   ]
  },
  {
   "cell_type": "markdown",
   "metadata": {},
   "source": [
    "We now need to flatten the image from (M,num_px, num_px, 3) to [(num_px * num_px * 3), M] "
   ]
  },
  {
   "cell_type": "code",
   "execution_count": 9,
   "metadata": {},
   "outputs": [],
   "source": [
    "#reshape\n",
    "train_set_x_flatten =  train_set_x_orig.reshape(209,-1).T\n",
    "test_set_x_flatten =  test_set_x_orig.reshape(50,-1).T"
   ]
  },
  {
   "cell_type": "code",
   "execution_count": 10,
   "metadata": {},
   "outputs": [
    {
     "name": "stdout",
     "output_type": "stream",
     "text": [
      "The shape of the preprocessed training set . is : (12288, 209)\n",
      "The shape of the preprocessed test . is : (12288, 50)\n"
     ]
    }
   ],
   "source": [
    "print('The shape of the preprocessed training set . is : {}'.format(train_set_x_flatten.shape))\n",
    "print('The shape of the preprocessed test . is : {}'.format(test_set_x_flatten.shape))"
   ]
  },
  {
   "cell_type": "markdown",
   "metadata": {},
   "source": [
    "We are now going to standardize by dividing every element by 255. Red, Green, And blue values range from 0 to 255 so if we divide by 255 we get a value from 0 to 1 that indicates the saturation of that color."
   ]
  },
  {
   "cell_type": "code",
   "execution_count": 11,
   "metadata": {},
   "outputs": [],
   "source": [
    "#Standardize\n",
    "train_set_x = train_set_x_flatten/255\n",
    "test_set_x = test_set_x_flatten/255"
   ]
  },
  {
   "cell_type": "markdown",
   "metadata": {},
   "source": [
    "### Build the algorithm "
   ]
  },
  {
   "cell_type": "code",
   "execution_count": 12,
   "metadata": {},
   "outputs": [],
   "source": [
    "#activation function \n",
    "def sigmoid(z):\n",
    "    s = 1/(1+ np.exp(-z))\n",
    "    return s"
   ]
  },
  {
   "cell_type": "code",
   "execution_count": 13,
   "metadata": {},
   "outputs": [
    {
     "name": "stdout",
     "output_type": "stream",
     "text": [
      "w = [0. 0.]\n",
      "b = 0\n"
     ]
    }
   ],
   "source": [
    "#define the weights and bias\n",
    "def initialize_with_zeros(dim):\n",
    "    \n",
    "    w = np.zeros(dim)\n",
    "    b = 0\n",
    "    \n",
    "    return w,b\n",
    "\n",
    "#Test\n",
    "dim = 2\n",
    "w, b = initialize_with_zeros(dim)\n",
    "print (\"w = \" + str(w))\n",
    "print (\"b = \" + str(b))"
   ]
  },
  {
   "cell_type": "code",
   "execution_count": 14,
   "metadata": {},
   "outputs": [],
   "source": [
    "#propogate\n",
    "def propagate(w,b,X,Y):\n",
    "    #define\n",
    "    m = X.shape[1]\n",
    "    A = sigmoid(np.dot(w.T,X) + b)\n",
    "    cost = - np.sum((Y * np.log(A)) + ((1-Y) * np.log(1-A))) / m\n",
    "    dw = np.dot(X, (A - Y).T)/m\n",
    "    db = np.sum(A - Y)/m\n",
    "    cost = np.squeeze(cost)\n",
    "    grads = {\"dw\": dw, \"db\": db}\n",
    "    #return\n",
    "    return grads, cost"
   ]
  },
  {
   "cell_type": "code",
   "execution_count": 15,
   "metadata": {},
   "outputs": [
    {
     "ename": "NameError",
     "evalue": "name 'propogate' is not defined",
     "output_type": "error",
     "traceback": [
      "\u001b[0;31m---------------------------------------------------------------------------\u001b[0m",
      "\u001b[0;31mNameError\u001b[0m                                 Traceback (most recent call last)",
      "\u001b[0;32m<ipython-input-15-f1d4dde3e319>\u001b[0m in \u001b[0;36m<module>\u001b[0;34m\u001b[0m\n\u001b[1;32m      1\u001b[0m \u001b[0;31m#test\u001b[0m\u001b[0;34m\u001b[0m\u001b[0;34m\u001b[0m\u001b[0;34m\u001b[0m\u001b[0m\n\u001b[1;32m      2\u001b[0m \u001b[0mw\u001b[0m\u001b[0;34m,\u001b[0m \u001b[0mb\u001b[0m\u001b[0;34m,\u001b[0m \u001b[0mX\u001b[0m\u001b[0;34m,\u001b[0m \u001b[0mY\u001b[0m \u001b[0;34m=\u001b[0m \u001b[0mnp\u001b[0m\u001b[0;34m.\u001b[0m\u001b[0marray\u001b[0m\u001b[0;34m(\u001b[0m\u001b[0;34m[\u001b[0m\u001b[0;34m[\u001b[0m\u001b[0;36m1.\u001b[0m\u001b[0;34m]\u001b[0m\u001b[0;34m,\u001b[0m\u001b[0;34m[\u001b[0m\u001b[0;36m2.\u001b[0m\u001b[0;34m]\u001b[0m\u001b[0;34m]\u001b[0m\u001b[0;34m)\u001b[0m\u001b[0;34m,\u001b[0m \u001b[0;36m2.\u001b[0m\u001b[0;34m,\u001b[0m \u001b[0mnp\u001b[0m\u001b[0;34m.\u001b[0m\u001b[0marray\u001b[0m\u001b[0;34m(\u001b[0m\u001b[0;34m[\u001b[0m\u001b[0;34m[\u001b[0m\u001b[0;36m1.\u001b[0m\u001b[0;34m,\u001b[0m\u001b[0;36m2.\u001b[0m\u001b[0;34m,\u001b[0m\u001b[0;34m-\u001b[0m\u001b[0;36m1.\u001b[0m\u001b[0;34m]\u001b[0m\u001b[0;34m,\u001b[0m\u001b[0;34m[\u001b[0m\u001b[0;36m3.\u001b[0m\u001b[0;34m,\u001b[0m\u001b[0;36m4.\u001b[0m\u001b[0;34m,\u001b[0m\u001b[0;34m-\u001b[0m\u001b[0;36m3.2\u001b[0m\u001b[0;34m]\u001b[0m\u001b[0;34m]\u001b[0m\u001b[0;34m)\u001b[0m\u001b[0;34m,\u001b[0m \u001b[0mnp\u001b[0m\u001b[0;34m.\u001b[0m\u001b[0marray\u001b[0m\u001b[0;34m(\u001b[0m\u001b[0;34m[\u001b[0m\u001b[0;34m[\u001b[0m\u001b[0;36m1\u001b[0m\u001b[0;34m,\u001b[0m\u001b[0;36m0\u001b[0m\u001b[0;34m,\u001b[0m\u001b[0;36m1\u001b[0m\u001b[0;34m]\u001b[0m\u001b[0;34m]\u001b[0m\u001b[0;34m)\u001b[0m\u001b[0;34m\u001b[0m\u001b[0;34m\u001b[0m\u001b[0m\n\u001b[0;32m----> 3\u001b[0;31m \u001b[0mgrads\u001b[0m\u001b[0;34m,\u001b[0m \u001b[0mcost\u001b[0m \u001b[0;34m=\u001b[0m \u001b[0mpropogate\u001b[0m\u001b[0;34m(\u001b[0m\u001b[0mw\u001b[0m\u001b[0;34m,\u001b[0m\u001b[0mb\u001b[0m\u001b[0;34m,\u001b[0m\u001b[0mX\u001b[0m\u001b[0;34m,\u001b[0m\u001b[0mY\u001b[0m\u001b[0;34m)\u001b[0m\u001b[0;34m\u001b[0m\u001b[0;34m\u001b[0m\u001b[0m\n\u001b[0m\u001b[1;32m      4\u001b[0m \u001b[0mgrads\u001b[0m\u001b[0;34m,\u001b[0m \u001b[0mcost\u001b[0m\u001b[0;34m\u001b[0m\u001b[0;34m\u001b[0m\u001b[0m\n",
      "\u001b[0;31mNameError\u001b[0m: name 'propogate' is not defined"
     ]
    }
   ],
   "source": [
    "#test\n",
    "w, b, X, Y = np.array([[1.],[2.]]), 2., np.array([[1.,2.,-1.],[3.,4.,-3.2]]), np.array([[1,0,1]])\n",
    "grads, cost = propogate(w,b,X,Y)\n",
    "grads, cost"
   ]
  },
  {
   "cell_type": "markdown",
   "metadata": {},
   "source": [
    "#### optimization "
   ]
  },
  {
   "cell_type": "code",
   "execution_count": 16,
   "metadata": {},
   "outputs": [],
   "source": [
    "def optimize(w, b, X, Y, num_iterations, learning_rate, print_cost = False):\n",
    "    \n",
    "    costs = []\n",
    "    \n",
    "    for i in range(num_iterations):\n",
    "        #run the forward and backward propogation for this epoch\n",
    "        grads, cost = propagate(w, b, X, Y)\n",
    "        \n",
    "        #gradients for weight and bias\n",
    "        dw = grads[\"dw\"]\n",
    "        db = grads[\"db\"]\n",
    "        \n",
    "        #update the weight and bias to the new weight and bias value\n",
    "        w = w - learning_rate * dw\n",
    "        b = b - learning_rate * db\n",
    "        \n",
    "        #record the cost\n",
    "        if i % 100 == 0:\n",
    "            costs.append(cost)\n",
    "            print(cost)\n",
    "        \n",
    "        #print the cost every 100 training examples\n",
    "        if print_cost and i %100 == 0:\n",
    "            print('cost after {} iterations is {}'.format(i, cost))\n",
    "            \n",
    "    #updated parameters and gradients\n",
    "    params = {\"w\": w,\n",
    "              \"b\": b}\n",
    "    \n",
    "    grads = {\"dw\": dw,\n",
    "             \"db\": db}\n",
    "        \n",
    "    return params, grads, costs"
   ]
  },
  {
   "cell_type": "code",
   "execution_count": 17,
   "metadata": {},
   "outputs": [
    {
     "name": "stdout",
     "output_type": "stream",
     "text": [
      "5.801545319394553\n",
      "w = [[0.19033591]\n",
      " [0.12259159]]\n",
      "b = 1.9253598300845747\n",
      "dw = [[0.67752042]\n",
      " [1.41625495]]\n",
      "db = 0.21919450454067654\n"
     ]
    }
   ],
   "source": [
    "#Test\n",
    "\n",
    "params, grads, costs = optimize(w, b, X, Y, num_iterations= 100, learning_rate = 0.009, print_cost = False)\n",
    "\n",
    "print (\"w = \" + str(params[\"w\"]))\n",
    "print (\"b = \" + str(params[\"b\"]))\n",
    "print (\"dw = \" + str(grads[\"dw\"]))\n",
    "print (\"db = \" + str(grads[\"db\"]))"
   ]
  },
  {
   "cell_type": "markdown",
   "metadata": {},
   "source": [
    "#### Predict"
   ]
  },
  {
   "cell_type": "code",
   "execution_count": 18,
   "metadata": {},
   "outputs": [],
   "source": [
    "def predict(w, b , X):\n",
    "    #number of training examples\n",
    "    m = X.shape[1]\n",
    "    \n",
    "    # we want w to be num_px for the height * num_px for the width * color channels\n",
    "    w = w.reshape(X.shape[0],1)\n",
    "    \n",
    "    # we want y hat to be a zero vector with dimensions of 1 * the number of training examples\n",
    "    y_prediction = np.zeros((1,m))\n",
    "    \n",
    "    \n",
    "    #the activation function which in this case is the sigmoid function \n",
    "    A = sigmoid(np.dot(w.T,X) + b)\n",
    "    \n",
    "    #for every prediction in the training set i\n",
    "    for i in range(A.shape[1]):\n",
    "        y_prediction[0,i] = 0 if A[0,i] <= 0.5 else 1\n",
    "        pass\n",
    "    \n",
    "    return y_prediction"
   ]
  },
  {
   "cell_type": "markdown",
   "metadata": {},
   "source": [
    "#### Merging all the functions into a model"
   ]
  },
  {
   "cell_type": "code",
   "execution_count": 24,
   "metadata": {},
   "outputs": [],
   "source": [
    "#model\n",
    "def model(X_train, Y_train, X_test, Y_test, num_iterations = 2000, learning_rate = 0.5, print_cost = False):\n",
    "    \n",
    "    #initialize the weights and biases, we're going to start with 0 there will be 12,282 weights 1 for every x\n",
    "    w , b = np.zeros((X_train.shape[0],1)), 0\n",
    "    \n",
    "    #Gradient descent\n",
    "    parameters, grads, costs = optimize(w, b, X_train, Y_train, num_iterations, learning_rate, print_cost)\n",
    "    \n",
    "    #updated learning rate after applying w - (learning_rate * dw) and b - (learning_rate * db)\n",
    "    w = parameters[\"w\"]\n",
    "    b = parameters[\"b\"]\n",
    "    \n",
    "    #predict test and train train examples\n",
    "    Y_prediction_test = predict(w, b, X_test)\n",
    "    Y_prediction_train = predict(w, b, X_train)\n",
    "    \n",
    "    \n",
    "    #print the accuracy\n",
    "    print(\"Train accuracy : {} %\".format(100 - np.mean(np.abs(Y_prediction_train - Y_train)) * 100 ))\n",
    "    print(\"Test accuracy : {} %\".format(100 - np.mean(np.abs(Y_prediction_test - Y_test)) * 100 ))\n",
    "    \n",
    "    #dictionary with information\n",
    "    d = {\n",
    "    \"costs\" : costs,\n",
    "    \"Y_prediction_test\": Y_prediction_test,\n",
    "    \"Y_prediction_train\" : Y_prediction_train,\n",
    "    \"w\" : w,\n",
    "    \"b\" : b,\n",
    "    \"learning_rate\" : learning_rate,\n",
    "    \"num_iterations\" : num_iterations\n",
    "    }\n",
    "    \n",
    "    #return the dictionary\n",
    "    return d"
   ]
  },
  {
   "cell_type": "code",
   "execution_count": 25,
   "metadata": {},
   "outputs": [
    {
     "name": "stdout",
     "output_type": "stream",
     "text": [
      "0.6931471805599453\n",
      "cost after 0 iterations is 0.6931471805599453\n",
      "0.5845083636993086\n",
      "cost after 100 iterations is 0.5845083636993086\n",
      "0.4669490409465547\n",
      "cost after 200 iterations is 0.4669490409465547\n",
      "0.37600686694802077\n",
      "cost after 300 iterations is 0.37600686694802077\n",
      "0.33146328932825136\n",
      "cost after 400 iterations is 0.33146328932825136\n",
      "0.303273067474383\n",
      "cost after 500 iterations is 0.303273067474383\n",
      "0.27987958658260487\n",
      "cost after 600 iterations is 0.27987958658260487\n",
      "0.26004213692587574\n",
      "cost after 700 iterations is 0.26004213692587574\n",
      "0.2429406846779662\n",
      "cost after 800 iterations is 0.2429406846779662\n",
      "0.2280042225672607\n",
      "cost after 900 iterations is 0.2280042225672607\n",
      "0.21481951378449637\n",
      "cost after 1000 iterations is 0.21481951378449637\n",
      "0.20307819060644985\n",
      "cost after 1100 iterations is 0.20307819060644985\n",
      "0.19254427716706857\n",
      "cost after 1200 iterations is 0.19254427716706857\n",
      "0.18303333796883509\n",
      "cost after 1300 iterations is 0.18303333796883509\n",
      "0.17439859438448882\n",
      "cost after 1400 iterations is 0.17439859438448882\n",
      "0.16652139705400335\n",
      "cost after 1500 iterations is 0.16652139705400335\n",
      "0.15930451829756614\n",
      "cost after 1600 iterations is 0.15930451829756614\n",
      "0.15266732471296504\n",
      "cost after 1700 iterations is 0.15266732471296504\n",
      "0.14654223503982344\n",
      "cost after 1800 iterations is 0.14654223503982344\n",
      "0.1408720757031016\n",
      "cost after 1900 iterations is 0.1408720757031016\n",
      "Train accuracy : 99.04306220095694 %\n",
      "Test accuracy : 70.0 %\n"
     ]
    }
   ],
   "source": [
    "d = model(train_set_x, train_set_y, test_set_x, test_set_y, num_iterations = 2000, learning_rate = 0.005, print_cost = True)"
   ]
  },
  {
   "cell_type": "markdown",
   "metadata": {},
   "source": [
    "##### A misclassified example"
   ]
  },
  {
   "cell_type": "code",
   "execution_count": 26,
   "metadata": {},
   "outputs": [
    {
     "data": {
      "text/plain": [
       "<matplotlib.image.AxesImage at 0xb1604afd0>"
      ]
     },
     "execution_count": 26,
     "metadata": {},
     "output_type": "execute_result"
    },
    {
     "data": {
      "image/png": "[encoded data removed]",
      "text/plain": [
       "<Figure size 432x288 with 1 Axes>"
      ]
     },
     "metadata": {
      "needs_background": "light"
     },
     "output_type": "display_data"
    }
   ],
   "source": [
    "index = 30\n",
    "plt.imshow(test_set_x[:,index].reshape((num_px, num_px, 3)))"
   ]
  },
  {
   "cell_type": "code",
   "execution_count": 27,
   "metadata": {},
   "outputs": [
    {
     "name": "stdout",
     "output_type": "stream",
     "text": [
      "y = 1\n",
      "My algorithm predicted it is a non-cat\n"
     ]
    }
   ],
   "source": [
    "print(\"y = {}\".format(test_set_y[0,index]))\n",
    "print(\"My algorithm predicted it is a {}\".format((classes[int(d['Y_prediction_test'][0,30])].decode())))"
   ]
  },
  {
   "cell_type": "code",
   "execution_count": 28,
   "metadata": {},
   "outputs": [
    {
     "data": {
      "image/png": "[encoded data removed]",
      "text/plain": [
       "<Figure size 432x288 with 1 Axes>"
      ]
     },
     "metadata": {
      "needs_background": "light"
     },
     "output_type": "display_data"
    }
   ],
   "source": [
    "# Plot learning curve (with costs)\n",
    "costs = np.squeeze(d['costs'])\n",
    "plt.plot(costs)\n",
    "plt.ylabel('cost')\n",
    "plt.xlabel('iterations (per hundreds)')\n",
    "plt.title(\"Learning rate =\" + str(d[\"learning_rate\"]))\n",
    "plt.show()"
   ]
  },
  {
   "cell_type": "code",
   "execution_count": null,
   "metadata": {},
   "outputs": [],
   "source": []
  },
  {
   "cell_type": "code",
   "execution_count": null,
   "metadata": {},
   "outputs": [],
   "source": []
  },
  {
   "cell_type": "code",
   "execution_count": null,
   "metadata": {},
   "outputs": [],
   "source": []
  },
  {
   "cell_type": "code",
   "execution_count": null,
   "metadata": {},
   "outputs": [],
   "source": []
  },
  {
   "cell_type": "code",
   "execution_count": null,
   "metadata": {},
   "outputs": [],
   "source": []
  },
  {
   "cell_type": "code",
   "execution_count": null,
   "metadata": {},
   "outputs": [],
   "source": []
  },
  {
   "cell_type": "code",
   "execution_count": null,
   "metadata": {},
   "outputs": [],
   "source": []
  }
 ],
 "metadata": {
  "kernelspec": {
   "display_name": "Python 3",
   "language": "python",
   "name": "python3"
  },
  "language_info": {
   "codemirror_mode": {
    "name": "ipython",
    "version": 3
   },
   "file_extension": ".py",
   "mimetype": "text/x-python",
   "name": "python",
   "nbconvert_exporter": "python",
   "pygments_lexer": "ipython3",
   "version": "3.7.1"
  }
 },
 "nbformat": 4,
 "nbformat_minor": 2
}
